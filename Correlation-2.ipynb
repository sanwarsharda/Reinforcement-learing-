{
 "cells": [
  {
   "cell_type": "code",
   "execution_count": 1,
   "metadata": {
    "id": "nrVkSG2RfZLJ"
   },
   "outputs": [],
   "source": [
    "import numpy as np\n",
    "import pandas as pd\n",
    "import seaborn as sns\n",
    "import matplotlib.pyplot as plt\n",
    "from scipy.stats import norm"
   ]
  },
  {
   "cell_type": "code",
   "execution_count": 2,
   "metadata": {
    "id": "EFnKxQz6fpjE"
   },
   "outputs": [],
   "source": [
    "data = pd.read_csv(\"House_Rent_Dataset.csv\")"
   ]
  },
  {
   "cell_type": "code",
   "execution_count": 3,
   "metadata": {
    "colab": {
     "base_uri": "https://localhost:8080/"
    },
    "id": "ii3HpkPjfvmS",
    "outputId": "6ce19476-2476-4d63-fc86-7897891ed75e"
   },
   "outputs": [
    {
     "data": {
      "text/plain": [
       "(4746, 12)"
      ]
     },
     "execution_count": 3,
     "metadata": {},
     "output_type": "execute_result"
    }
   ],
   "source": [
    "data.shape"
   ]
  },
  {
   "cell_type": "code",
   "execution_count": 4,
   "metadata": {
    "colab": {
     "base_uri": "https://localhost:8080/"
    },
    "id": "RABQxy_rfwyk",
    "outputId": "9c941f67-b7b7-456a-bb03-abb7e8d33bb1"
   },
   "outputs": [
    {
     "data": {
      "text/plain": [
       "count    4.746000e+03\n",
       "mean     3.499345e+04\n",
       "std      7.810641e+04\n",
       "min      1.200000e+03\n",
       "25%      1.000000e+04\n",
       "50%      1.600000e+04\n",
       "75%      3.300000e+04\n",
       "max      3.500000e+06\n",
       "Name: Rent, dtype: float64"
      ]
     },
     "execution_count": 4,
     "metadata": {},
     "output_type": "execute_result"
    }
   ],
   "source": [
    "data['Rent'].describe()"
   ]
  },
  {
   "cell_type": "code",
   "execution_count": 5,
   "metadata": {
    "colab": {
     "base_uri": "https://localhost:8080/",
     "height": 350
    },
    "id": "I_6UnVOUgdIr",
    "outputId": "4d805f84-d27e-4874-de5c-7a3d2c0049a9"
   },
   "outputs": [
    {
     "data": {
      "text/plain": [
       "<AxesSubplot:ylabel='Frequency'>"
      ]
     },
     "execution_count": 5,
     "metadata": {},
     "output_type": "execute_result"
    },
    {
     "data": {
      "image/png": "[encoded data removed]",
      "text/plain": [
       "<Figure size 648x360 with 1 Axes>"
      ]
     },
     "metadata": {
      "needs_background": "light"
     },
     "output_type": "display_data"
    }
   ],
   "source": [
    "plt.figure(figsize=(9, 5))\n",
    "data['Rent'].plot(kind = \"hist\")"
   ]
  },
  {
   "cell_type": "code",
   "execution_count": 6,
   "metadata": {
    "colab": {
     "base_uri": "https://localhost:8080/",
     "height": 504
    },
    "id": "yopM9Jjegndz",
    "outputId": "3bde48eb-e6fe-4771-8eb8-1a0f06df6746"
   },
   "outputs": [
    {
     "data": {
      "text/plain": [
       "<AxesSubplot:>"
      ]
     },
     "execution_count": 6,
     "metadata": {},
     "output_type": "execute_result"
    },
    {
     "data": {
      "image/png": "[encoded data removed]",
      "text/plain": [
       "<Figure size 648x576 with 2 Axes>"
      ]
     },
     "metadata": {
      "needs_background": "light"
     },
     "output_type": "display_data"
    }
   ],
   "source": [
    "corrmat = data.corr()\n",
    "f, ax=plt.subplots(figsize=(9,8))\n",
    "sns.heatmap(corrmat, ax= ax, cmap=\"YlGnBu\",linewidths =0.1)"
   ]
  },
  {
   "cell_type": "code",
   "execution_count": 7,
   "metadata": {
    "colab": {
     "base_uri": "https://localhost:8080/",
     "height": 659
    },
    "id": "kZCXsHG_hdNo",
    "outputId": "c000e842-1d66-4704-ac2f-8fe34ff2bace"
   },
   "outputs": [
    {
     "data": {
      "text/html": [
       "<div>\n",
       "<style scoped>\n",
       "    .dataframe tbody tr th:only-of-type {\n",
       "        vertical-align: middle;\n",
       "    }\n",
       "\n",
       "    .dataframe tbody tr th {\n",
       "        vertical-align: top;\n",
       "    }\n",
       "\n",
       "    .dataframe thead th {\n",
       "        text-align: right;\n",
       "    }\n",
       "</style>\n",
       "<table border=\"1\" class=\"dataframe\">\n",
       "  <thead>\n",
       "    <tr style=\"text-align: right;\">\n",
       "      <th></th>\n",
       "      <th>Posted On</th>\n",
       "      <th>BHK</th>\n",
       "      <th>Rent</th>\n",
       "      <th>Size</th>\n",
       "      <th>Floor</th>\n",
       "      <th>Area Type</th>\n",
       "      <th>Area Locality</th>\n",
       "      <th>City</th>\n",
       "      <th>Furnishing Status</th>\n",
       "      <th>Tenant Preferred</th>\n",
       "      <th>Bathroom</th>\n",
       "      <th>Point of Contact</th>\n",
       "    </tr>\n",
       "  </thead>\n",
       "  <tbody>\n",
       "    <tr>\n",
       "      <th>0</th>\n",
       "      <td>18-05-2022</td>\n",
       "      <td>2</td>\n",
       "      <td>10000</td>\n",
       "      <td>1100</td>\n",
       "      <td>Ground out of 2</td>\n",
       "      <td>Super Area</td>\n",
       "      <td>Bandel</td>\n",
       "      <td>Kolkata</td>\n",
       "      <td>Unfurnished</td>\n",
       "      <td>Bachelors/Family</td>\n",
       "      <td>2</td>\n",
       "      <td>Contact Owner</td>\n",
       "    </tr>\n",
       "    <tr>\n",
       "      <th>1</th>\n",
       "      <td>13-05-2022</td>\n",
       "      <td>2</td>\n",
       "      <td>20000</td>\n",
       "      <td>800</td>\n",
       "      <td>1 out of 3</td>\n",
       "      <td>Super Area</td>\n",
       "      <td>Phool Bagan, Kankurgachi</td>\n",
       "      <td>Kolkata</td>\n",
       "      <td>Semi-Furnished</td>\n",
       "      <td>Bachelors/Family</td>\n",
       "      <td>1</td>\n",
       "      <td>Contact Owner</td>\n",
       "    </tr>\n",
       "    <tr>\n",
       "      <th>2</th>\n",
       "      <td>16-05-2022</td>\n",
       "      <td>2</td>\n",
       "      <td>17000</td>\n",
       "      <td>1000</td>\n",
       "      <td>1 out of 3</td>\n",
       "      <td>Super Area</td>\n",
       "      <td>Salt Lake City Sector 2</td>\n",
       "      <td>Kolkata</td>\n",
       "      <td>Semi-Furnished</td>\n",
       "      <td>Bachelors/Family</td>\n",
       "      <td>1</td>\n",
       "      <td>Contact Owner</td>\n",
       "    </tr>\n",
       "    <tr>\n",
       "      <th>3</th>\n",
       "      <td>04-07-2022</td>\n",
       "      <td>2</td>\n",
       "      <td>10000</td>\n",
       "      <td>800</td>\n",
       "      <td>1 out of 2</td>\n",
       "      <td>Super Area</td>\n",
       "      <td>Dumdum Park</td>\n",
       "      <td>Kolkata</td>\n",
       "      <td>Unfurnished</td>\n",
       "      <td>Bachelors/Family</td>\n",
       "      <td>1</td>\n",
       "      <td>Contact Owner</td>\n",
       "    </tr>\n",
       "    <tr>\n",
       "      <th>4</th>\n",
       "      <td>09-05-2022</td>\n",
       "      <td>2</td>\n",
       "      <td>7500</td>\n",
       "      <td>850</td>\n",
       "      <td>1 out of 2</td>\n",
       "      <td>Carpet Area</td>\n",
       "      <td>South Dum Dum</td>\n",
       "      <td>Kolkata</td>\n",
       "      <td>Unfurnished</td>\n",
       "      <td>Bachelors</td>\n",
       "      <td>1</td>\n",
       "      <td>Contact Owner</td>\n",
       "    </tr>\n",
       "    <tr>\n",
       "      <th>...</th>\n",
       "      <td>...</td>\n",
       "      <td>...</td>\n",
       "      <td>...</td>\n",
       "      <td>...</td>\n",
       "      <td>...</td>\n",
       "      <td>...</td>\n",
       "      <td>...</td>\n",
       "      <td>...</td>\n",
       "      <td>...</td>\n",
       "      <td>...</td>\n",
       "      <td>...</td>\n",
       "      <td>...</td>\n",
       "    </tr>\n",
       "    <tr>\n",
       "      <th>4741</th>\n",
       "      <td>18-05-2022</td>\n",
       "      <td>2</td>\n",
       "      <td>15000</td>\n",
       "      <td>1000</td>\n",
       "      <td>3 out of 5</td>\n",
       "      <td>Carpet Area</td>\n",
       "      <td>Bandam Kommu</td>\n",
       "      <td>Hyderabad</td>\n",
       "      <td>Semi-Furnished</td>\n",
       "      <td>Bachelors/Family</td>\n",
       "      <td>2</td>\n",
       "      <td>Contact Owner</td>\n",
       "    </tr>\n",
       "    <tr>\n",
       "      <th>4742</th>\n",
       "      <td>15-05-2022</td>\n",
       "      <td>3</td>\n",
       "      <td>29000</td>\n",
       "      <td>2000</td>\n",
       "      <td>1 out of 4</td>\n",
       "      <td>Super Area</td>\n",
       "      <td>Manikonda, Hyderabad</td>\n",
       "      <td>Hyderabad</td>\n",
       "      <td>Semi-Furnished</td>\n",
       "      <td>Bachelors/Family</td>\n",
       "      <td>3</td>\n",
       "      <td>Contact Owner</td>\n",
       "    </tr>\n",
       "    <tr>\n",
       "      <th>4743</th>\n",
       "      <td>10-07-2022</td>\n",
       "      <td>3</td>\n",
       "      <td>35000</td>\n",
       "      <td>1750</td>\n",
       "      <td>3 out of 5</td>\n",
       "      <td>Carpet Area</td>\n",
       "      <td>Himayath Nagar, NH 7</td>\n",
       "      <td>Hyderabad</td>\n",
       "      <td>Semi-Furnished</td>\n",
       "      <td>Bachelors/Family</td>\n",
       "      <td>3</td>\n",
       "      <td>Contact Agent</td>\n",
       "    </tr>\n",
       "    <tr>\n",
       "      <th>4744</th>\n",
       "      <td>06-07-2022</td>\n",
       "      <td>3</td>\n",
       "      <td>45000</td>\n",
       "      <td>1500</td>\n",
       "      <td>23 out of 34</td>\n",
       "      <td>Carpet Area</td>\n",
       "      <td>Gachibowli</td>\n",
       "      <td>Hyderabad</td>\n",
       "      <td>Semi-Furnished</td>\n",
       "      <td>Family</td>\n",
       "      <td>2</td>\n",
       "      <td>Contact Agent</td>\n",
       "    </tr>\n",
       "    <tr>\n",
       "      <th>4745</th>\n",
       "      <td>04-05-2022</td>\n",
       "      <td>2</td>\n",
       "      <td>15000</td>\n",
       "      <td>1000</td>\n",
       "      <td>4 out of 5</td>\n",
       "      <td>Carpet Area</td>\n",
       "      <td>Suchitra Circle</td>\n",
       "      <td>Hyderabad</td>\n",
       "      <td>Unfurnished</td>\n",
       "      <td>Bachelors</td>\n",
       "      <td>2</td>\n",
       "      <td>Contact Owner</td>\n",
       "    </tr>\n",
       "  </tbody>\n",
       "</table>\n",
       "<p>4746 rows × 12 columns</p>\n",
       "</div>"
      ],
      "text/plain": [
       "       Posted On  BHK   Rent  Size            Floor    Area Type  \\\n",
       "0     18-05-2022    2  10000  1100  Ground out of 2   Super Area   \n",
       "1     13-05-2022    2  20000   800       1 out of 3   Super Area   \n",
       "2     16-05-2022    2  17000  1000       1 out of 3   Super Area   \n",
       "3     04-07-2022    2  10000   800       1 out of 2   Super Area   \n",
       "4     09-05-2022    2   7500   850       1 out of 2  Carpet Area   \n",
       "...          ...  ...    ...   ...              ...          ...   \n",
       "4741  18-05-2022    2  15000  1000       3 out of 5  Carpet Area   \n",
       "4742  15-05-2022    3  29000  2000       1 out of 4   Super Area   \n",
       "4743  10-07-2022    3  35000  1750       3 out of 5  Carpet Area   \n",
       "4744  06-07-2022    3  45000  1500     23 out of 34  Carpet Area   \n",
       "4745  04-05-2022    2  15000  1000       4 out of 5  Carpet Area   \n",
       "\n",
       "                 Area Locality       City Furnishing Status  Tenant Preferred  \\\n",
       "0                       Bandel    Kolkata       Unfurnished  Bachelors/Family   \n",
       "1     Phool Bagan, Kankurgachi    Kolkata    Semi-Furnished  Bachelors/Family   \n",
       "2      Salt Lake City Sector 2    Kolkata    Semi-Furnished  Bachelors/Family   \n",
       "3                  Dumdum Park    Kolkata       Unfurnished  Bachelors/Family   \n",
       "4                South Dum Dum    Kolkata       Unfurnished         Bachelors   \n",
       "...                        ...        ...               ...               ...   \n",
       "4741              Bandam Kommu  Hyderabad    Semi-Furnished  Bachelors/Family   \n",
       "4742      Manikonda, Hyderabad  Hyderabad    Semi-Furnished  Bachelors/Family   \n",
       "4743      Himayath Nagar, NH 7  Hyderabad    Semi-Furnished  Bachelors/Family   \n",
       "4744                Gachibowli  Hyderabad    Semi-Furnished            Family   \n",
       "4745           Suchitra Circle  Hyderabad       Unfurnished         Bachelors   \n",
       "\n",
       "      Bathroom Point of Contact  \n",
       "0            2    Contact Owner  \n",
       "1            1    Contact Owner  \n",
       "2            1    Contact Owner  \n",
       "3            1    Contact Owner  \n",
       "4            1    Contact Owner  \n",
       "...        ...              ...  \n",
       "4741         2    Contact Owner  \n",
       "4742         3    Contact Owner  \n",
       "4743         3    Contact Agent  \n",
       "4744         2    Contact Agent  \n",
       "4745         2    Contact Owner  \n",
       "\n",
       "[4746 rows x 12 columns]"
      ]
     },
     "execution_count": 7,
     "metadata": {},
     "output_type": "execute_result"
    }
   ],
   "source": [
    "data"
   ]
  },
  {
   "cell_type": "code",
   "execution_count": 8,
   "metadata": {
    "colab": {
     "base_uri": "https://localhost:8080/"
    },
    "id": "8dcb74jeigUH",
    "outputId": "e6033817-563e-4998-9e02-7594b0c5ae50"
   },
   "outputs": [
    {
     "name": "stdout",
     "output_type": "stream",
     "text": [
      "<class 'pandas.core.frame.DataFrame'>\n",
      "RangeIndex: 4746 entries, 0 to 4745\n",
      "Data columns (total 12 columns):\n",
      " #   Column             Non-Null Count  Dtype \n",
      "---  ------             --------------  ----- \n",
      " 0   Posted On          4746 non-null   object\n",
      " 1   BHK                4746 non-null   int64 \n",
      " 2   Rent               4746 non-null   int64 \n",
      " 3   Size               4746 non-null   int64 \n",
      " 4   Floor              4746 non-null   object\n",
      " 5   Area Type          4746 non-null   object\n",
      " 6   Area Locality      4746 non-null   object\n",
      " 7   City               4746 non-null   object\n",
      " 8   Furnishing Status  4746 non-null   object\n",
      " 9   Tenant Preferred   4746 non-null   object\n",
      " 10  Bathroom           4746 non-null   int64 \n",
      " 11  Point of Contact   4746 non-null   object\n",
      "dtypes: int64(4), object(8)\n",
      "memory usage: 445.1+ KB\n"
     ]
    }
   ],
   "source": [
    "data.info()"
   ]
  },
  {
   "cell_type": "code",
   "execution_count": 10,
   "metadata": {
    "colab": {
     "base_uri": "https://localhost:8080/",
     "height": 747
    },
    "id": "zw1ZLIQ2in43",
    "outputId": "151a6213-4116-4e23-dc96-e61060162f4c"
   },
   "outputs": [
    {
     "data": {
      "text/plain": [
       "[None, None, None, None, None, None, None, None]"
      ]
     },
     "execution_count": 10,
     "metadata": {},
     "output_type": "execute_result"
    },
    {
     "data": {
      "image/png": "[encoded data removed]",
      "text/plain": [
       "<Figure size 720x720 with 4 Axes>"
      ]
     },
     "metadata": {
      "needs_background": "light"
     },
     "output_type": "display_data"
    }
   ],
   "source": [
    "corrmat = data.corr();\n",
    "\n",
    "cg=sns.clustermap(corrmat, cmap=\"YlGnBu\", linewidths = 0.1);\n",
    "plt.setp(cg.ax_heatmap.yaxis.get_majorticklabels(), rotation = 0)"
   ]
  },
  {
   "cell_type": "code",
   "execution_count": null,
   "metadata": {
    "id": "99vovJURjFvW"
   },
   "outputs": [],
   "source": []
  },
  {
   "cell_type": "code",
   "execution_count": null,
   "metadata": {},
   "outputs": [],
   "source": [
    "--"
   ]
  }
 ],
 "metadata": {
  "colab": {
   "collapsed_sections": [],
   "provenance": []
  },
  "kernelspec": {
   "display_name": "Python 3 (ipykernel)",
   "language": "python",
   "name": "python3"
  },
  "language_info": {
   "codemirror_mode": {
    "name": "ipython",
    "version": 3
   },
   "file_extension": ".py",
   "mimetype": "text/x-python",
   "name": "python",
   "nbconvert_exporter": "python",
   "pygments_lexer": "ipython3",
   "version": "3.9.7"
  }
 },
 "nbformat": 4,
 "nbformat_minor": 1
}
