{
 "cells": [
  {
   "cell_type": "code",
   "execution_count": 2,
   "metadata": {
    "id": "uH2QUZSiaqxz"
   },
   "outputs": [],
   "source": [
    "import numpy as np\n",
    "#E matrix\n",
    "R = np.matrix([[-1,-1,-1,-1,0,-1],\n",
    "              [-1,-1,-1,0,-1,100],\n",
    "              [-1,-1,-1,0,-1,-1],\n",
    "              [-1,0,0,-1,0,-1],\n",
    "              [-1,0,0,-1,-1,100],\n",
    "              [-1,0,-1,-1,0,100]])"
   ]
  },
  {
   "cell_type": "code",
   "execution_count": 3,
   "metadata": {
    "id": "x0_W7lj-bXnc"
   },
   "outputs": [],
   "source": [
    "Q=np.matrix(np.zeros([6,6]))"
   ]
  },
  {
   "cell_type": "code",
   "execution_count": 4,
   "metadata": {
    "colab": {
     "base_uri": "https://localhost:8080/"
    },
    "id": "sKSqxPCcccdU",
    "outputId": "a9e170eb-7fe0-42ef-f215-4e76895a3661"
   },
   "outputs": [
    {
     "data": {
      "text/plain": [
       "matrix([[0., 0., 0., 0., 0., 0.],\n",
       "        [0., 0., 0., 0., 0., 0.],\n",
       "        [0., 0., 0., 0., 0., 0.],\n",
       "        [0., 0., 0., 0., 0., 0.],\n",
       "        [0., 0., 0., 0., 0., 0.],\n",
       "        [0., 0., 0., 0., 0., 0.]])"
      ]
     },
     "execution_count": 4,
     "metadata": {},
     "output_type": "execute_result"
    }
   ],
   "source": [
    "Q"
   ]
  },
  {
   "cell_type": "code",
   "execution_count": 5,
   "metadata": {
    "id": "6NMEEp6RcelE"
   },
   "outputs": [],
   "source": [
    "gamma=0.8\n",
    "initial_state=1"
   ]
  },
  {
   "cell_type": "code",
   "execution_count": 6,
   "metadata": {
    "id": "kvVa_UAHc3jE"
   },
   "outputs": [],
   "source": [
    "def available_actions(state):\n",
    "  current_state_row=R[state,]\n",
    "  av_act=np.where(current_state_row>=0)[1]\n",
    "  return av_act"
   ]
  },
  {
   "cell_type": "code",
   "execution_count": 7,
   "metadata": {
    "id": "reJVOrzZdP0p"
   },
   "outputs": [],
   "source": [
    "available_act=available_actions(initial_state)"
   ]
  },
  {
   "cell_type": "code",
   "execution_count": 8,
   "metadata": {
    "colab": {
     "base_uri": "https://localhost:8080/"
    },
    "id": "Pv-JgU4addZ-",
    "outputId": "327bd7ec-9d18-4b35-9159-fe89489baf94"
   },
   "outputs": [
    {
     "data": {
      "text/plain": [
       "array([3, 5], dtype=int64)"
      ]
     },
     "execution_count": 8,
     "metadata": {},
     "output_type": "execute_result"
    }
   ],
   "source": [
    "available_act"
   ]
  },
  {
   "cell_type": "code",
   "execution_count": 9,
   "metadata": {
    "id": "LyLqmDjHeAaM"
   },
   "outputs": [],
   "source": [
    "def sample_next_action(available_actions_range):\n",
    "  next_action=int(np.random.choice(available_act,1))\n",
    "  return next_action"
   ]
  },
  {
   "cell_type": "code",
   "execution_count": 10,
   "metadata": {
    "id": "sWjvD1YiePtE"
   },
   "outputs": [],
   "source": [
    "#Sample next action to be performed\n",
    "action=sample_next_action(available_act)"
   ]
  },
  {
   "cell_type": "code",
   "execution_count": 11,
   "metadata": {
    "colab": {
     "base_uri": "https://localhost:8080/"
    },
    "id": "jmYpMgwce_F-",
    "outputId": "df0c5585-05f8-4d48-9cd9-e4a8619dd174"
   },
   "outputs": [
    {
     "data": {
      "text/plain": [
       "5"
      ]
     },
     "execution_count": 11,
     "metadata": {},
     "output_type": "execute_result"
    }
   ],
   "source": [
    "action"
   ]
  },
  {
   "cell_type": "code",
   "execution_count": 12,
   "metadata": {
    "id": "SWBDAb4Ne_-l"
   },
   "outputs": [],
   "source": [
    "#this function updates the Qmatrix according to the path selected\n",
    "def update(current_state,action,gamma):\n",
    "  max_index=np.where(Q[action,]==np.max(Q[action,]))[1]\n",
    "\n",
    "  if max_index.shape[0]>1:\n",
    "    max_index=int(np.random.choice(max_index,size=1))\n",
    "  else:\n",
    "    max_index=int(max_index)\n",
    "  max_value=Q[action,max_index]\n",
    "\n",
    "  #Q-learning fomula\n",
    "  Q[current_state,action]=R[current_state,action]+gamma*max_value\n",
    "\n",
    "#update Q matrix\n",
    "update(initial_state,action,gamma)"
   ]
  },
  {
   "cell_type": "code",
   "execution_count": 13,
   "metadata": {
    "colab": {
     "base_uri": "https://localhost:8080/"
    },
    "id": "n2KHc_mlfvIa",
    "outputId": "fecaba74-f34f-4e14-e8e1-a6df08a7ed59"
   },
   "outputs": [
    {
     "data": {
      "text/plain": [
       "matrix([[  0.,   0.,   0.,   0.,   0.,   0.],\n",
       "        [  0.,   0.,   0.,   0.,   0., 100.],\n",
       "        [  0.,   0.,   0.,   0.,   0.,   0.],\n",
       "        [  0.,   0.,   0.,   0.,   0.,   0.],\n",
       "        [  0.,   0.,   0.,   0.,   0.,   0.],\n",
       "        [  0.,   0.,   0.,   0.,   0.,   0.]])"
      ]
     },
     "execution_count": 13,
     "metadata": {},
     "output_type": "execute_result"
    }
   ],
   "source": [
    "Q"
   ]
  },
  {
   "cell_type": "code",
   "execution_count": 14,
   "metadata": {
    "id": "yB9bUozlhrwH"
   },
   "outputs": [],
   "source": [
    "#Training\n",
    "#Train over 10,000 iterations\n",
    "for i in range(10000):\n",
    "  current_state=np.random.randint(0,int(Q.shape[0]))\n",
    "  available_act=available_actions(current_state)\n",
    "  action=sample_next_action(available_act)\n",
    "  update(current_state,action,gamma)"
   ]
  },
  {
   "cell_type": "code",
   "execution_count": 15,
   "metadata": {
    "colab": {
     "base_uri": "https://localhost:8080/"
    },
    "id": "a6bb3JCoiuXf",
    "outputId": "0ca84796-6d59-458d-dc0c-8a8a7c6309d1"
   },
   "outputs": [
    {
     "data": {
      "text/plain": [
       "matrix([[  0.,   0.,   0.,   0., 400.,   0.],\n",
       "        [  0.,   0.,   0., 320.,   0., 500.],\n",
       "        [  0.,   0.,   0., 320.,   0.,   0.],\n",
       "        [  0., 400., 256.,   0., 400.,   0.],\n",
       "        [  0., 400., 256.,   0.,   0., 500.],\n",
       "        [  0., 400.,   0.,   0., 400., 500.]])"
      ]
     },
     "execution_count": 15,
     "metadata": {},
     "output_type": "execute_result"
    }
   ],
   "source": [
    "Q"
   ]
  },
  {
   "cell_type": "code",
   "execution_count": 16,
   "metadata": {
    "colab": {
     "base_uri": "https://localhost:8080/"
    },
    "id": "Kvws8EOFiyDU",
    "outputId": "a87aed58-9cc0-4507-d9b8-e772374c2323"
   },
   "outputs": [
    {
     "name": "stdout",
     "output_type": "stream",
     "text": [
      "Trained Q matrix:\n",
      "[[0.      0.      0.      0.      0.008   0.     ]\n",
      " [0.      0.      0.      0.0064  0.      0.01   ]\n",
      " [0.      0.      0.      0.0064  0.      0.     ]\n",
      " [0.      0.008   0.00512 0.      0.008   0.     ]\n",
      " [0.      0.008   0.00512 0.      0.      0.01   ]\n",
      " [0.      0.008   0.      0.      0.008   0.01   ]]\n"
     ]
    }
   ],
   "source": [
    "#normalize the trained Q-matrix\n",
    "print(\"Trained Q matrix:\")\n",
    "print(Q/np.max(Q*100))"
   ]
  },
  {
   "cell_type": "code",
   "execution_count": 17,
   "metadata": {
    "id": "PP0Z0VZHi8jI"
   },
   "outputs": [],
   "source": [
    "current_state=1\n",
    "steps=[current_state]\n",
    "\n",
    "while current_state !=5:\n",
    "  next_step_index=np.where(Q[current_state,]==np.max(Q[current_state,]))[1]\n",
    "  if next_step_index.shape[0]>1:\n",
    "    next_step_index=int(np.random.choice(next_step_index,size=1))\n",
    "  else:\n",
    "    next_step_index=int(next_step_index)\n",
    "  \n",
    "  steps.append(next_step_index)\n",
    "  current_state=next_step_index"
   ]
  },
  {
   "cell_type": "code",
   "execution_count": null,
   "metadata": {
    "id": "J6POQbFwn3km"
   },
   "outputs": [],
   "source": []
  }
 ],
 "metadata": {
  "colab": {
   "provenance": []
  },
  "kernelspec": {
   "display_name": "Python 3 (ipykernel)",
   "language": "python",
   "name": "python3"
  },
  "language_info": {
   "codemirror_mode": {
    "name": "ipython",
    "version": 3
   },
   "file_extension": ".py",
   "mimetype": "text/x-python",
   "name": "python",
   "nbconvert_exporter": "python",
   "pygments_lexer": "ipython3",
   "version": "3.9.7"
  }
 },
 "nbformat": 4,
 "nbformat_minor": 1
}
