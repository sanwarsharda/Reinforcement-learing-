{
  "nbformat": 4,
  "nbformat_minor": 0,
  "metadata": {
    "colab": {
      "provenance": [],
      "collapsed_sections": [],
      "include_colab_link": true
    },
    "kernelspec": {
      "name": "python3",
      "display_name": "Python 3"
    },
    "language_info": {
      "name": "python"
    }
  },
  "cells": [
    {
      "cell_type": "markdown",
      "metadata": {
        "id": "view-in-github",
        "colab_type": "text"
      },
      "source": [
        "<a href=\"https://colab.research.google.com/github/sanwarsharda/Reinforcement-learing-/blob/main/Policy_and_value_iteration.ipynb\" target=\"_parent\"><img src=\"https://colab.research.google.com/assets/colab-badge.svg\" alt=\"Open In Colab\"/></a>"
      ]
    },
    {
      "cell_type": "code",
      "execution_count": 1,
      "metadata": {
        "id": "1QH47E5TlLCx"
      },
      "outputs": [],
      "source": [
        "import numpy as np\n",
        "\n",
        "states = [0,1,2,3,4]\n",
        "actions = [0 ,1]\n",
        "N_STATES = len(states)\n",
        "N_ACTIONS = len(actions)\n",
        "P = np.zeros((N_STATES, N_ACTIONS, N_STATES)) #transition probability\n",
        "R = np.zeros((N_STATES, N_ACTIONS, N_STATES)) #rewards\n"
      ]
    },
    {
      "cell_type": "code",
      "source": [
        "P[0,0,1] = 1.0 #STATE ACTION and Reward\n",
        "P[1,1,2] = 1.0\n",
        "P[2,0,3] = 1.0\n",
        "P[3,1,4] = 1.0\n",
        "P[4,0,4] = 1.0\n",
        "\n",
        "R[0,0,1] = 1\n",
        "R[1,1,2] = 10\n",
        "R[2,0,3] = 100\n",
        "R[3,1,4] = 1000\n",
        "R[4,0,4] = 1.0"
      ],
      "metadata": {
        "id": "7x4mubRLmoUq"
      },
      "execution_count": 2,
      "outputs": []
    },
    {
      "cell_type": "code",
      "source": [
        "gamma = 0.75\n",
        "\n",
        "#initialize policy and value arbitrarily\n",
        "\n",
        "policy = [ 0 for s in range(N_STATES)]\n",
        "V = np.zeros(N_STATES)\n",
        "\n",
        "print(\"Initial policy\", policy)\n",
        "# print V"
      ],
      "metadata": {
        "colab": {
          "base_uri": "https://localhost:8080/"
        },
        "id": "QPmO45vhp0oX",
        "outputId": "eebbe15a-5062-41ed-fa77-da1cd3d3d12d"
      },
      "execution_count": 3,
      "outputs": [
        {
          "output_type": "stream",
          "name": "stdout",
          "text": [
            "Initial policy [0, 0, 0, 0, 0]\n"
          ]
        }
      ]
    },
    {
      "cell_type": "code",
      "source": [
        "is_value_changed = True\n",
        "iterations = 0\n",
        "while is_value_changed:\n",
        "  is_value_changed = False\n",
        "  iterations += 1\n",
        "#run value iteration for each state\n",
        "for s in range (N_STATES):\n",
        "  V[s] = sum([P[s,policy[s], s1] * (R[s,policy[s],s1] + gamma*V[s1]) for s1 in range(N_STATES)])\n",
        "  #print \" Run for state\", s\n",
        "\n",
        "for s in range(N_STATES):\n",
        "  q_best = V[s]\n",
        "  #print \"State\", s, \"q_best\", q_best\n",
        "  for a in range (N_ACTIONS):\n",
        "    q_sa = sum([P[s, a ,s1] * (R[s,a,s1] + gamma *V[s1]) for s1 in range(N_STATES)])"
      ],
      "metadata": {
        "id": "AYGOICTsqIlX"
      },
      "execution_count": 4,
      "outputs": []
    },
    {
      "cell_type": "code",
      "source": [
        "for s in range(N_STATES):\n",
        "  q_best = V[s]\n",
        "  #print \"State\", s, \"q_best\", q_best\n",
        "  for a in range(N_ACTIONS):\n",
        "    q_sa = sum([P[s,a,s1] * (R[s,a,s1] + gamma *V[s1]) for s1 in range(N_STATES)])\n",
        "    if q_sa > q_best:\n",
        "      print(\"State\", s, \"q_sa\", q_sa, \"q_best\", q_best)\n",
        "      policy[s] = a\n",
        "      q_best = q_sa\n",
        "      is_value_changed = True\n",
        "\n",
        "print(\"Iterations\", iterations)      "
      ],
      "metadata": {
        "colab": {
          "base_uri": "https://localhost:8080/"
        },
        "id": "uw88CeQur8K8",
        "outputId": "c7d61308-038a-4b76-b8f2-98b001677d32"
      },
      "execution_count": 5,
      "outputs": [
        {
          "output_type": "stream",
          "name": "stdout",
          "text": [
            "State 1 q_sa 85.0 q_best 0.0\n",
            "State 3 q_sa 1000.75 q_best 0.0\n",
            "State 4 q_sa 1.75 q_best 1.0\n",
            "Iterations 1\n"
          ]
        }
      ]
    },
    {
      "cell_type": "code",
      "source": [
        "print(\"Final Policy\")\n",
        "print(policy)\n",
        "print(V)"
      ],
      "metadata": {
        "colab": {
          "base_uri": "https://localhost:8080/"
        },
        "id": "QmUPAwcctluA",
        "outputId": "ce27bbc8-c7ac-49cf-b5c5-97d3e59231a5"
      },
      "execution_count": 6,
      "outputs": [
        {
          "output_type": "stream",
          "name": "stdout",
          "text": [
            "Final Policy\n",
            "[0, 1, 0, 1, 0]\n",
            "[  1.   0. 100.   0.   1.]\n"
          ]
        }
      ]
    },
    {
      "cell_type": "code",
      "source": [],
      "metadata": {
        "id": "X2APuHR3uNmQ"
      },
      "execution_count": 6,
      "outputs": []
    }
  ]
}