{
  "cells": [
    {
      "cell_type": "markdown",
      "metadata": {
        "id": "view-in-github",
        "colab_type": "text"
      },
      "source": [
        "<a href=\"https://colab.research.google.com/github/sanwarsharda/Reinforcement-learing-/blob/main/RL_Lab_1.ipynb\" target=\"_parent\"><img src=\"https://colab.research.google.com/assets/colab-badge.svg\" alt=\"Open In Colab\"/></a>"
      ]
    },
    {
      "cell_type": "code",
      "execution_count": null,
      "metadata": {
        "id": "epbtAcRkf9bw"
      },
      "outputs": [],
      "source": [
        "import pandas as pd"
      ]
    },
    {
      "cell_type": "code",
      "execution_count": null,
      "metadata": {
        "id": "QCvHegMwgHcB"
      },
      "outputs": [],
      "source": [
        "data=pd.read_csv(\"Ads_Optimisation.csv\")"
      ]
    },
    {
      "cell_type": "code",
      "execution_count": null,
      "metadata": {
        "colab": {
          "base_uri": "https://localhost:8080/",
          "height": 206
        },
        "id": "E-fbJhJLgWTD",
        "outputId": "fba8e0fb-3956-4bf1-ac80-c2bda5f4bd27"
      },
      "outputs": [
        {
          "data": {
            "text/html": [
              "<div>\n",
              "<style scoped>\n",
              "    .dataframe tbody tr th:only-of-type {\n",
              "        vertical-align: middle;\n",
              "    }\n",
              "\n",
              "    .dataframe tbody tr th {\n",
              "        vertical-align: top;\n",
              "    }\n",
              "\n",
              "    .dataframe thead th {\n",
              "        text-align: right;\n",
              "    }\n",
              "</style>\n",
              "<table border=\"1\" class=\"dataframe\">\n",
              "  <thead>\n",
              "    <tr style=\"text-align: right;\">\n",
              "      <th></th>\n",
              "      <th>Ad 1</th>\n",
              "      <th>Ad 2</th>\n",
              "      <th>Ad 3</th>\n",
              "      <th>Ad 4</th>\n",
              "      <th>Ad 5</th>\n",
              "      <th>Ad 6</th>\n",
              "      <th>Ad 7</th>\n",
              "      <th>Ad 8</th>\n",
              "      <th>Ad 9</th>\n",
              "      <th>Ad 10</th>\n",
              "    </tr>\n",
              "  </thead>\n",
              "  <tbody>\n",
              "    <tr>\n",
              "      <th>0</th>\n",
              "      <td>1</td>\n",
              "      <td>0</td>\n",
              "      <td>0</td>\n",
              "      <td>0</td>\n",
              "      <td>1</td>\n",
              "      <td>0</td>\n",
              "      <td>0</td>\n",
              "      <td>0</td>\n",
              "      <td>1</td>\n",
              "      <td>0</td>\n",
              "    </tr>\n",
              "    <tr>\n",
              "      <th>1</th>\n",
              "      <td>0</td>\n",
              "      <td>0</td>\n",
              "      <td>0</td>\n",
              "      <td>0</td>\n",
              "      <td>0</td>\n",
              "      <td>0</td>\n",
              "      <td>0</td>\n",
              "      <td>0</td>\n",
              "      <td>1</td>\n",
              "      <td>0</td>\n",
              "    </tr>\n",
              "    <tr>\n",
              "      <th>2</th>\n",
              "      <td>0</td>\n",
              "      <td>0</td>\n",
              "      <td>0</td>\n",
              "      <td>0</td>\n",
              "      <td>0</td>\n",
              "      <td>0</td>\n",
              "      <td>0</td>\n",
              "      <td>0</td>\n",
              "      <td>0</td>\n",
              "      <td>0</td>\n",
              "    </tr>\n",
              "    <tr>\n",
              "      <th>3</th>\n",
              "      <td>0</td>\n",
              "      <td>1</td>\n",
              "      <td>0</td>\n",
              "      <td>0</td>\n",
              "      <td>0</td>\n",
              "      <td>0</td>\n",
              "      <td>0</td>\n",
              "      <td>1</td>\n",
              "      <td>0</td>\n",
              "      <td>0</td>\n",
              "    </tr>\n",
              "    <tr>\n",
              "      <th>4</th>\n",
              "      <td>0</td>\n",
              "      <td>0</td>\n",
              "      <td>0</td>\n",
              "      <td>0</td>\n",
              "      <td>0</td>\n",
              "      <td>0</td>\n",
              "      <td>0</td>\n",
              "      <td>0</td>\n",
              "      <td>0</td>\n",
              "      <td>0</td>\n",
              "    </tr>\n",
              "  </tbody>\n",
              "</table>\n",
              "</div>"
            ],
            "text/plain": [
              "   Ad 1  Ad 2  Ad 3  Ad 4  Ad 5  Ad 6  Ad 7  Ad 8  Ad 9  Ad 10\n",
              "0     1     0     0     0     1     0     0     0     1      0\n",
              "1     0     0     0     0     0     0     0     0     1      0\n",
              "2     0     0     0     0     0     0     0     0     0      0\n",
              "3     0     1     0     0     0     0     0     1     0      0\n",
              "4     0     0     0     0     0     0     0     0     0      0"
            ]
          },
          "execution_count": 3,
          "metadata": {},
          "output_type": "execute_result"
        }
      ],
      "source": [
        "data.head()"
      ]
    },
    {
      "cell_type": "code",
      "execution_count": null,
      "metadata": {
        "id": "ulm2NsQygZuH"
      },
      "outputs": [],
      "source": [
        "import random \n",
        "N=10000\n",
        "d=10\n",
        "ads_selected=[]\n",
        "total_reward=0\n",
        "for n in range (0,N):\n",
        "    ad=random.randrange(d)\n",
        "    ads_selected.append(ad)\n",
        "    reward=data.values[n, ad]\n",
        "    total_reward=total_reward+reward"
      ]
    },
    {
      "cell_type": "code",
      "execution_count": null,
      "metadata": {
        "colab": {
          "base_uri": "https://localhost:8080/"
        },
        "id": "UFJjEl2kh2al",
        "outputId": "564a7bb5-e2a5-4096-d074-b16867bc84ce"
      },
      "outputs": [
        {
          "data": {
            "text/plain": [
              "4    0.1062\n",
              "2    0.1039\n",
              "1    0.1016\n",
              "0    0.1003\n",
              "8    0.1000\n",
              "9    0.1000\n",
              "7    0.0989\n",
              "3    0.0985\n",
              "6    0.0968\n",
              "5    0.0938\n",
              "dtype: float64"
            ]
          },
          "execution_count": 5,
          "metadata": {},
          "output_type": "execute_result"
        }
      ],
      "source": [
        "pd.Series(ads_selected).tail(10000).value_counts(normalize=True)"
      ]
    },
    {
      "cell_type": "code",
      "execution_count": null,
      "metadata": {
        "colab": {
          "base_uri": "https://localhost:8080/"
        },
        "id": "iXHIjyFliewV",
        "outputId": "d84c2ea6-966c-459a-91fb-89cbdaa1ee34"
      },
      "outputs": [
        {
          "data": {
            "text/plain": [
              "4    0.1062\n",
              "2    0.1039\n",
              "1    0.1016\n",
              "0    0.1003\n",
              "8    0.1000\n",
              "9    0.1000\n",
              "7    0.0989\n",
              "3    0.0985\n",
              "6    0.0968\n",
              "5    0.0938\n",
              "dtype: float64"
            ]
          },
          "execution_count": 6,
          "metadata": {},
          "output_type": "execute_result"
        }
      ],
      "source": [
        "pd.Series(ads_selected).head(10000).value_counts(normalize=True)"
      ]
    },
    {
      "cell_type": "code",
      "execution_count": null,
      "metadata": {
        "id": "t9OZfGWIisSe"
      },
      "outputs": [],
      "source": []
    },
    {
      "cell_type": "code",
      "execution_count": null,
      "metadata": {
        "colab": {
          "base_uri": "https://localhost:8080/"
        },
        "id": "g1_P9EQmjb1W",
        "outputId": "ec969bcd-f452-4a6b-de81-cc30437e2e95"
      },
      "outputs": [
        {
          "data": {
            "text/plain": [
              "(10000, 10)"
            ]
          },
          "execution_count": 7,
          "metadata": {},
          "output_type": "execute_result"
        }
      ],
      "source": [
        "data.shape"
      ]
    },
    {
      "cell_type": "code",
      "execution_count": null,
      "metadata": {
        "colab": {
          "base_uri": "https://localhost:8080/"
        },
        "id": "wSl9VjVrjcua",
        "outputId": "9dc0ff8b-5186-4c39-d73a-1b8818613005"
      },
      "outputs": [
        {
          "data": {
            "text/plain": [
              "4    1062\n",
              "2    1039\n",
              "1    1016\n",
              "0    1003\n",
              "8    1000\n",
              "9    1000\n",
              "7     989\n",
              "3     985\n",
              "6     968\n",
              "5     938\n",
              "dtype: int64"
            ]
          },
          "execution_count": 8,
          "metadata": {},
          "output_type": "execute_result"
        }
      ],
      "source": [
        "pd.Series(ads_selected).tail(10000).value_counts(normalize=False)"
      ]
    },
    {
      "cell_type": "code",
      "execution_count": null,
      "metadata": {
        "colab": {
          "base_uri": "https://localhost:8080/"
        },
        "id": "zLUwqSvrmfzP",
        "outputId": "6645b6e0-23fd-4399-bec4-aa92579e7cb9"
      },
      "outputs": [
        {
          "data": {
            "text/plain": [
              "4    1062\n",
              "2    1039\n",
              "1    1016\n",
              "0    1003\n",
              "8    1000\n",
              "9    1000\n",
              "7     989\n",
              "3     985\n",
              "6     968\n",
              "5     938\n",
              "dtype: int64"
            ]
          },
          "execution_count": 9,
          "metadata": {},
          "output_type": "execute_result"
        }
      ],
      "source": [
        "pd.Series(ads_selected).head(10000).value_counts(normalize=False)"
      ]
    },
    {
      "cell_type": "code",
      "execution_count": null,
      "metadata": {
        "id": "hJia9I5AmoiX"
      },
      "outputs": [],
      "source": [
        "import math\n",
        "N=10000\n",
        "d=10\n",
        "ads_selected=[]\n",
        "numbers_of_selections=[0]*d\n",
        "sums_of_reward=[0]*d\n",
        "total_rewards=0"
      ]
    },
    {
      "cell_type": "code",
      "execution_count": null,
      "metadata": {
        "id": "qHtVsB2HnZH0"
      },
      "outputs": [],
      "source": [
        "for n in range(0, N):\n",
        "    ad = 0\n",
        "    max_upper_bound = 0\n",
        "    \n",
        "    for i in range(0, d):\n",
        "        if (numbers_of_selections[i] > 0):        \n",
        "            average_reward = sums_of_reward[i] / numbers_of_selections[i]           \n",
        "            di = math.sqrt(3/2 * math.log(n + 1) / numbers_of_selections[i])           \n",
        "            upper_bound = average_reward + di\n",
        "            \n",
        "        else:\n",
        "            upper_bound = 1e400\n",
        "            \n",
        "        if upper_bound > max_upper_bound:\n",
        "            max_upper_bound = upper_bound\n",
        "            ad = i\n",
        "   \n",
        "    ads_selected.append(ad) \n",
        "    numbers_of_selections[ad] = numbers_of_selections[ad] + 1\n",
        "    reward = data.values[n, ad]\n",
        "    sums_of_reward[ad] = sums_of_reward[ad] + reward\n",
        "    total_reward = total_reward + reward"
      ]
    },
    {
      "cell_type": "code",
      "execution_count": null,
      "metadata": {
        "colab": {
          "base_uri": "https://localhost:8080/"
        },
        "id": "mAeCswfNq4KO",
        "outputId": "95f091a0-94b0-4ff7-fc7b-f6fd93f6c9ce"
      },
      "outputs": [
        {
          "data": {
            "text/plain": [
              "4    0.6323\n",
              "7    0.1170\n",
              "0    0.0705\n",
              "1    0.0387\n",
              "3    0.0345\n",
              "6    0.0292\n",
              "8    0.0256\n",
              "2    0.0186\n",
              "9    0.0186\n",
              "5    0.0150\n",
              "dtype: float64"
            ]
          },
          "execution_count": 12,
          "metadata": {},
          "output_type": "execute_result"
        }
      ],
      "source": [
        "pd.Series(ads_selected).head(10000).value_counts(normalize=True)"
      ]
    },
    {
      "cell_type": "code",
      "execution_count": null,
      "metadata": {
        "colab": {
          "base_uri": "https://localhost:8080/"
        },
        "id": "FKMs_BRjrMSi",
        "outputId": "d479689e-38a7-459a-ae64-36e22556a58f"
      },
      "outputs": [
        {
          "data": {
            "text/plain": [
              "4    0.6323\n",
              "7    0.1170\n",
              "0    0.0705\n",
              "1    0.0387\n",
              "3    0.0345\n",
              "6    0.0292\n",
              "8    0.0256\n",
              "2    0.0186\n",
              "9    0.0186\n",
              "5    0.0150\n",
              "dtype: float64"
            ]
          },
          "execution_count": 13,
          "metadata": {},
          "output_type": "execute_result"
        }
      ],
      "source": [
        "pd.Series(ads_selected).tail(10000).value_counts(normalize=True)"
      ]
    },
    {
      "cell_type": "code",
      "execution_count": null,
      "metadata": {
        "id": "zq67hi6Ws5js"
      },
      "outputs": [],
      "source": []
    }
  ],
  "metadata": {
    "colab": {
      "collapsed_sections": [],
      "provenance": [],
      "include_colab_link": true
    },
    "kernelspec": {
      "display_name": "Python 3 (ipykernel)",
      "language": "python",
      "name": "python3"
    },
    "language_info": {
      "codemirror_mode": {
        "name": "ipython",
        "version": 3
      },
      "file_extension": ".py",
      "mimetype": "text/x-python",
      "name": "python",
      "nbconvert_exporter": "python",
      "pygments_lexer": "ipython3",
      "version": "3.9.7"
    }
  },
  "nbformat": 4,
  "nbformat_minor": 0
}